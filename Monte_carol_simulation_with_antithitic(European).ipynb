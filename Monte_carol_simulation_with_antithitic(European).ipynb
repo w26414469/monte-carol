{
 "cells": [
  {
   "cell_type": "markdown",
   "id": "1cc30dd0",
   "metadata": {},
   "source": [
    " Monte_carol simulation (Europen)"
   ]
  },
  {
   "cell_type": "code",
   "execution_count": 1,
   "id": "629ec9e4",
   "metadata": {},
   "outputs": [
    {
     "name": "stdout",
     "output_type": "stream",
     "text": [
      "請輸入當前股價100\n",
      "請輸入到期時間(年化)0.05\n",
      "請輸入無風險利率0.01\n",
      "請輸入波動度0.35\n",
      "請輸入模擬次數100000\n",
      "請輸入執行價格100\n",
      "請輸入選擇權類型(C or P)C\n"
     ]
    }
   ],
   "source": [
    "#歐式買賣權參數輸入\n",
    "S0= int(input(\"請輸入當前股價\"))\n",
    "time = float(input(\"請輸入到期時間(年化)\"))\n",
    "rf = float(input(\"請輸入無風險利率\"))\n",
    "sigma = float(input(\"請輸入波動度\"))\n",
    "dt = time / 100\n",
    "N = int(input(\"請輸入模擬次數\"))\n",
    "SK = int(input(\"請輸入執行價格\"))\n",
    "c_or_p = input(\"請輸入選擇權類型(C or P)\")\n",
    "stock_price=S0 \n",
    "import numpy as np"
   ]
  },
  {
   "cell_type": "code",
   "execution_count": 2,
   "id": "9e2a153d",
   "metadata": {},
   "outputs": [],
   "source": [
    "#產生一個常態分配的隨機樣本(對偶變量則差負號)\n",
    "arr_1 = np.random.randn(N,100)\n",
    "arr_2 = -(arr_1.copy())"
   ]
  },
  {
   "cell_type": "code",
   "execution_count": 3,
   "id": "08bec4d8",
   "metadata": {},
   "outputs": [
    {
     "data": {
      "text/plain": [
       "array([[ 1.0844438 , -1.15558374, -0.49088491, ..., -0.96827514,\n",
       "         0.72073152,  2.01746982],\n",
       "       [-1.5927491 , -0.16175024,  0.28145362, ..., -1.1331205 ,\n",
       "        -1.85646443, -0.15591456],\n",
       "       [-0.74757126,  1.35029931, -0.67863855, ..., -0.42568024,\n",
       "         0.89112412,  1.17531603],\n",
       "       ...,\n",
       "       [ 1.38391487,  0.54922995,  0.48912433, ..., -0.51300975,\n",
       "         0.90991471,  1.03128222],\n",
       "       [-0.97658427,  0.34031258,  0.94698557, ...,  0.68381845,\n",
       "         0.27942373, -0.61817253],\n",
       "       [-1.32920514,  0.17144214, -0.72824002, ..., -0.2974576 ,\n",
       "         0.22828817,  0.92618243]])"
      ]
     },
     "execution_count": 3,
     "metadata": {},
     "output_type": "execute_result"
    }
   ],
   "source": [
    "arr_1"
   ]
  },
  {
   "cell_type": "code",
   "execution_count": 4,
   "id": "d0eae949",
   "metadata": {},
   "outputs": [
    {
     "data": {
      "text/plain": [
       "array([[-1.0844438 ,  1.15558374,  0.49088491, ...,  0.96827514,\n",
       "        -0.72073152, -2.01746982],\n",
       "       [ 1.5927491 ,  0.16175024, -0.28145362, ...,  1.1331205 ,\n",
       "         1.85646443,  0.15591456],\n",
       "       [ 0.74757126, -1.35029931,  0.67863855, ...,  0.42568024,\n",
       "        -0.89112412, -1.17531603],\n",
       "       ...,\n",
       "       [-1.38391487, -0.54922995, -0.48912433, ...,  0.51300975,\n",
       "        -0.90991471, -1.03128222],\n",
       "       [ 0.97658427, -0.34031258, -0.94698557, ..., -0.68381845,\n",
       "        -0.27942373,  0.61817253],\n",
       "       [ 1.32920514, -0.17144214,  0.72824002, ...,  0.2974576 ,\n",
       "        -0.22828817, -0.92618243]])"
      ]
     },
     "execution_count": 4,
     "metadata": {},
     "output_type": "execute_result"
    }
   ],
   "source": [
    "arr_2"
   ]
  },
  {
   "cell_type": "code",
   "execution_count": 5,
   "id": "fd3145a5",
   "metadata": {},
   "outputs": [],
   "source": [
    "S1 = S0\n",
    "import math\n",
    "\n",
    "for i in range(N):\n",
    "    for k in range(100):\n",
    "        if k == 0:\n",
    "            arr_1[i,k] = stock_price\n",
    "            arr_2[i,k] = stock_price\n",
    "            S0 = arr_1[i,k]\n",
    "            S1 = arr_2[i,k]\n",
    "            \n",
    "        else:\n",
    "            ds = S0 * rf * dt + sigma * S0 * math.sqrt(dt) * arr_1[i,k]\n",
    "            ds_1 = S1 * rf * dt + sigma * S1 * math.sqrt(dt) * arr_2[i,k]\n",
    "            arr_1[i,k] = ds + S0\n",
    "            arr_2[i,k] = ds_1 + S1\n",
    "            S0 = arr_1[i,k]\n",
    "            S1 = arr_2[i,k]"
   ]
  },
  {
   "cell_type": "code",
   "execution_count": 6,
   "id": "d749c1da",
   "metadata": {},
   "outputs": [
    {
     "data": {
      "text/plain": [
       "array([[100.        ,  99.09611267,  98.71590248, ..., 108.80526447,\n",
       "        109.41953725, 111.14773118],\n",
       "       [100.        ,  99.87391042, 100.09440434, ...,  97.41328141,\n",
       "         95.99843802,  95.88177837],\n",
       "       [100.        , 101.05727636, 100.52104758, ..., 101.58242771,\n",
       "        102.29138665, 103.23280526],\n",
       "       ...,\n",
       "       [100.        , 100.43034042, 100.81529025, ..., 100.78725748,\n",
       "        101.50548854, 102.32525296],\n",
       "       [100.        , 100.26683672, 101.01044911, ..., 122.82434013,\n",
       "        123.09355102, 122.49864416],\n",
       "       [100.        , 100.1346747 ,  99.56446984, ...,  93.85254401,\n",
       "         94.02069375,  94.70267511]])"
      ]
     },
     "execution_count": 6,
     "metadata": {},
     "output_type": "execute_result"
    }
   ],
   "source": [
    "arr_1"
   ]
  },
  {
   "cell_type": "code",
   "execution_count": 7,
   "id": "00368adf",
   "metadata": {},
   "outputs": [
    {
     "data": {
      "text/plain": [
       "array([[100.        , 100.90488733, 101.29304644, ...,  91.40407199,\n",
       "         90.8889537 ,  89.45434438],\n",
       "       [100.        , 100.12708958,  99.90703798, ..., 102.21280635,\n",
       "        103.6983808 , 103.82543458],\n",
       "       [100.        ,  98.94372364,  99.46972695, ...,  97.88414412,\n",
       "         97.2019749 ,  96.3083677 ],\n",
       "       ...,\n",
       "       [100.        ,  99.57065958,  99.19000061, ...,  98.74629444,\n",
       "         98.04359518,  97.25276965],\n",
       "       [100.        ,  99.73416328,  98.99549872, ...,  80.97389275,\n",
       "         80.79722095,  81.18851909],\n",
       "       [100.        ,  99.8663253 , 100.43600074, ..., 106.05764078,\n",
       "        105.86868451, 105.10182214]])"
      ]
     },
     "execution_count": 7,
     "metadata": {},
     "output_type": "execute_result"
    }
   ],
   "source": [
    "arr_2"
   ]
  },
  {
   "cell_type": "code",
   "execution_count": 8,
   "id": "077f675e",
   "metadata": {},
   "outputs": [
    {
     "name": "stdout",
     "output_type": "stream",
     "text": [
      "call price is : \n",
      "3.137\n"
     ]
    }
   ],
   "source": [
    "payoff_list_1 = []\n",
    "payoff_list_2 = []\n",
    "import statistics as sc\n",
    "if c_or_p == \"C\" :\n",
    "    arr_S = arr_1[:,-1] - SK\n",
    "    arr_S2 = arr_2[:,-1] - SK\n",
    "if c_or_p == \"P\" :\n",
    "    arr_S = SK-arr_1[:,-1] \n",
    "    arr_S2 =SK-arr_2[:,-1]\n",
    "    \n",
    "for i in range(N):\n",
    "    if arr_S[i] > 0 :\n",
    "        payoff_list_1.append(arr_S[i]* math.exp(-rf * time))\n",
    "    else :\n",
    "        payoff_list_1.append(0)\n",
    "for i in range(N):\n",
    "    if arr_S2[i] > 0 :\n",
    "        payoff_list_2.append(arr_S2[i]* math.exp(-rf * time))\n",
    "    else :\n",
    "        payoff_list_2.append(0)\n",
    "        \n",
    "call_price= round((sc.mean(payoff_list_1) +sc.mean(payoff_list_2))/2 ,3)\n",
    "print(\"call price is : \")\n",
    "print(call_price )\n",
    "\n",
    "payoff_arr1 = np.array(payoff_list_1)\n",
    "payoff_arr2 = np.array(payoff_list_2)\n",
    "payoff_arr = np.concatenate((payoff_arr1,payoff_arr2))\n"
   ]
  },
  {
   "cell_type": "code",
   "execution_count": 9,
   "id": "2b9f8921",
   "metadata": {},
   "outputs": [],
   "source": [
    "N1 = len(payoff_arr1)\n",
    "N2 = payoff_arr.shape[0]"
   ]
  },
  {
   "cell_type": "markdown",
   "id": "cb3fa6d5",
   "metadata": {},
   "source": [
    "計算信賴區間"
   ]
  },
  {
   "cell_type": "code",
   "execution_count": 10,
   "id": "77638434",
   "metadata": {},
   "outputs": [],
   "source": [
    "import statistics as sc"
   ]
  },
  {
   "cell_type": "code",
   "execution_count": 11,
   "id": "bfc83faa",
   "metadata": {},
   "outputs": [
    {
     "name": "stdout",
     "output_type": "stream",
     "text": [
      "confidence_interval(without accuracy):\n",
      "(3.101209713426617, 3.1604444505554623)\n",
      "length(without accuracy):\n",
      "0.05923473712884508\n"
     ]
    }
   ],
   "source": [
    "#計算原本的信賴區間\n",
    "std1=sc.stdev(payoff_arr1)\n",
    "mean1=sc.mean(payoff_arr1)\n",
    "\n",
    "CI_1 = mean1 +1.96 * std1 / math.sqrt(N1)\n",
    "CI_2 = mean1 - 1.96 * std1 / math.sqrt(N1)\n",
    "confidence_intervial = CI_2,CI_1\n",
    "length = CI_1 - CI_2\n",
    "print(\"confidence_interval(without accuracy):\")\n",
    "print(confidence_intervial)\n",
    "print(\"length(without accuracy):\")\n",
    "print(length)"
   ]
  },
  {
   "cell_type": "markdown",
   "id": "ab94deef",
   "metadata": {},
   "source": [
    "antithetic variate"
   ]
  },
  {
   "cell_type": "code",
   "execution_count": 12,
   "id": "dbb20b0a",
   "metadata": {},
   "outputs": [
    {
     "name": "stdout",
     "output_type": "stream",
     "text": [
      "confidence_interval(with accuracy):\n",
      "(3.109840277925965, 3.1518138860561145)\n",
      "length(without accuracy):\n",
      "0.04197360813014939\n"
     ]
    }
   ],
   "source": [
    "std2=sc.stdev(payoff_arr)\n",
    "mean=sc.mean(payoff_arr)\n",
    "CI_1 = mean1 +1.96 * std2 / math.sqrt(N2)\n",
    "CI_2 = mean1 - 1.96 * std2 / math.sqrt(N2)\n",
    "confidence_intervial = CI_2,CI_1\n",
    "length2 = CI_1 - CI_2\n",
    "print(\"confidence_interval(with accuracy):\")\n",
    "print(confidence_intervial)\n",
    "print(\"length(without accuracy):\")\n",
    "print(length2)"
   ]
  },
  {
   "cell_type": "code",
   "execution_count": 13,
   "id": "5d2253db",
   "metadata": {},
   "outputs": [
    {
     "data": {
      "text/plain": [
       "0.7085978627515479"
      ]
     },
     "execution_count": 13,
     "metadata": {},
     "output_type": "execute_result"
    }
   ],
   "source": [
    "length2 / length"
   ]
  },
  {
   "cell_type": "code",
   "execution_count": null,
   "id": "1dbfff8c",
   "metadata": {},
   "outputs": [],
   "source": []
  }
 ],
 "metadata": {
  "kernelspec": {
   "display_name": "Python 3",
   "language": "python",
   "name": "python3"
  },
  "language_info": {
   "codemirror_mode": {
    "name": "ipython",
    "version": 3
   },
   "file_extension": ".py",
   "mimetype": "text/x-python",
   "name": "python",
   "nbconvert_exporter": "python",
   "pygments_lexer": "ipython3",
   "version": "3.8.8"
  }
 },
 "nbformat": 4,
 "nbformat_minor": 5
}
