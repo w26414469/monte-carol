{
 "cells": [
  {
   "cell_type": "code",
   "execution_count": 2,
   "id": "276c7238",
   "metadata": {},
   "outputs": [
    {
     "name": "stdout",
     "output_type": "stream",
     "text": [
      "請輸入當前股價100\n",
      "請輸入到期時間(年化)0.05\n",
      "請輸入無風險利率0.01\n",
      "請輸入波動度0.35\n",
      "請輸入模擬次數100000\n",
      "請輸入執行價格100\n",
      "請輸入選擇權類型(C or P)C\n"
     ]
    }
   ],
   "source": [
    "S0= int(input(\"請輸入當前股價\"))\n",
    "time = float(input(\"請輸入到期時間(年化)\"))\n",
    "rf = float(input(\"請輸入無風險利率\"))\n",
    "sigma = float(input(\"請輸入波動度\"))\n",
    "dt = time / 100\n",
    "N = int(input(\"請輸入模擬次數\"))\n",
    "SK = int(input(\"請輸入執行價格\"))\n",
    "c_or_p = input(\"請輸入選擇權類型(C or P)\")\n",
    "stock_price=S0 \n",
    "import numpy as np"
   ]
  },
  {
   "cell_type": "code",
   "execution_count": 3,
   "id": "2c25c67c",
   "metadata": {},
   "outputs": [],
   "source": [
    "arr_1 = np.random.randn(N,100)"
   ]
  },
  {
   "cell_type": "code",
   "execution_count": 4,
   "id": "bcb2fa5b",
   "metadata": {},
   "outputs": [],
   "source": [
    "import math\n",
    "\n",
    "for i in range(N):\n",
    "    for k in range(100):\n",
    "        if k == 0:\n",
    "            arr_1[i,k] = stock_price\n",
    "            S0 = arr_1[i,k]\n",
    "            \n",
    "        else:\n",
    "            ds = S0 * rf * dt + sigma * S0 * math.sqrt(dt) * arr_1[i,k]\n",
    "            arr_1[i,k] = ds + S0\n",
    "            S0 = arr_1[i,k]"
   ]
  },
  {
   "cell_type": "code",
   "execution_count": 5,
   "id": "903a7631",
   "metadata": {},
   "outputs": [
    {
     "data": {
      "text/plain": [
       "array([[100.        ,  99.64284649, 100.88713958, ..., 103.01177925,\n",
       "        103.43148442, 103.28739445],\n",
       "       [100.        ,  99.51435394,  99.75761722, ..., 102.11112792,\n",
       "        102.59895014, 102.1625618 ],\n",
       "       [100.        , 100.47339533,  99.74091485, ...,  93.64260528,\n",
       "         93.07345471,  94.02893859],\n",
       "       ...,\n",
       "       [100.        , 101.08411405, 101.16723457, ..., 107.32322876,\n",
       "        106.19398392, 106.42847779],\n",
       "       [100.        ,  99.88566954, 101.09132237, ..., 102.32081388,\n",
       "        102.61316425, 102.24463466],\n",
       "       [100.        , 100.23673303,  98.99586501, ...,  97.49550584,\n",
       "         99.19650688, 100.17230876]])"
      ]
     },
     "execution_count": 5,
     "metadata": {},
     "output_type": "execute_result"
    }
   ],
   "source": [
    "arr_1"
   ]
  },
  {
   "cell_type": "code",
   "execution_count": 6,
   "id": "8ed71630",
   "metadata": {},
   "outputs": [],
   "source": [
    "X = []\n",
    "X_bar = []\n",
    "for i in range(N):\n",
    "    X.append (math.exp(-rf*time) * max(0,arr_1[i,-1]-SK)) \n",
    "    X_bar.append(math.exp(-rf*time)*(arr_1[i,-1]-SK))\n",
    "X_matrix = np.array(list(zip(X,X_bar))) "
   ]
  },
  {
   "cell_type": "code",
   "execution_count": 7,
   "id": "d0d548e7",
   "metadata": {},
   "outputs": [
    {
     "data": {
      "text/plain": [
       "array([[ 3.28575116,  3.28575116],\n",
       "       [ 2.16148079,  2.16148079],\n",
       "       [ 0.        , -5.96807663],\n",
       "       ...,\n",
       "       [ 6.42526436,  6.42526436],\n",
       "       [ 2.24351262,  2.24351262],\n",
       "       [ 0.17222263,  0.17222263]])"
      ]
     },
     "execution_count": 7,
     "metadata": {},
     "output_type": "execute_result"
    }
   ],
   "source": [
    "X_matrix"
   ]
  },
  {
   "cell_type": "code",
   "execution_count": 8,
   "id": "e22e67cf",
   "metadata": {},
   "outputs": [],
   "source": [
    "cov=np.cov(X_matrix.T)"
   ]
  },
  {
   "cell_type": "code",
   "execution_count": 9,
   "id": "6eafb04f",
   "metadata": {},
   "outputs": [],
   "source": [
    "cov_x_xbar=cov[0,1]"
   ]
  },
  {
   "cell_type": "code",
   "execution_count": 10,
   "id": "92ba56ca",
   "metadata": {},
   "outputs": [],
   "source": [
    "var_xbar = stock_price ** 2 *(math.exp(sigma**2*time)-1) "
   ]
  },
  {
   "cell_type": "code",
   "execution_count": 11,
   "id": "baa588f5",
   "metadata": {},
   "outputs": [],
   "source": [
    "theta = cov_x_xbar/var_xbar"
   ]
  },
  {
   "cell_type": "code",
   "execution_count": 12,
   "id": "eb85dba7",
   "metadata": {},
   "outputs": [
    {
     "data": {
      "text/plain": [
       "0.5234013023064287"
      ]
     },
     "execution_count": 12,
     "metadata": {},
     "output_type": "execute_result"
    }
   ],
   "source": [
    "theta "
   ]
  },
  {
   "cell_type": "code",
   "execution_count": 13,
   "id": "542c579d",
   "metadata": {},
   "outputs": [],
   "source": [
    "Y_theta=[]\n",
    "E_xbar = stock_price-(math.exp(-rf*time)*SK)\n",
    "for i in range(N):\n",
    "    Y_sample = X[i] + theta*(E_xbar-X_bar[i])\n",
    "    Y_theta.append(Y_sample)"
   ]
  },
  {
   "cell_type": "code",
   "execution_count": 14,
   "id": "acbdb4c2",
   "metadata": {},
   "outputs": [
    {
     "data": {
      "text/plain": [
       "array([1.59214825, 1.05632245, 3.1498626 , ..., 3.08843615, 1.09541872,\n",
       "       0.1082446 ])"
      ]
     },
     "execution_count": 14,
     "metadata": {},
     "output_type": "execute_result"
    }
   ],
   "source": [
    "arr_Y_theta=np.array(Y_theta)\n",
    "arr_Y_theta"
   ]
  },
  {
   "cell_type": "code",
   "execution_count": 15,
   "id": "a6d3a75f",
   "metadata": {},
   "outputs": [],
   "source": [
    "std=np.std(arr_Y_theta) "
   ]
  },
  {
   "cell_type": "code",
   "execution_count": 16,
   "id": "d1130a46",
   "metadata": {},
   "outputs": [
    {
     "name": "stdout",
     "output_type": "stream",
     "text": [
      "option price\n",
      "3.1183802958375324\n",
      "confidence_interval:\n",
      "(3.103848494364846, 3.1329120973102187)\n",
      "confidence_width:\n",
      "0.02906360294537258\n"
     ]
    }
   ],
   "source": [
    "mean = np.mean(arr_Y_theta)\n",
    "print(\"option price\")\n",
    "print(mean)\n",
    "CI_1 = mean +1.96 * std / math.sqrt(N)\n",
    "CI_2 = mean - 1.96 * std / math.sqrt(N)\n",
    "confidence_intervial = CI_2,CI_1\n",
    "length3 = CI_1 - CI_2\n",
    "print(\"confidence_interval:\")\n",
    "print(confidence_intervial)\n",
    "print(\"confidence_width:\")\n",
    "print(length3)"
   ]
  },
  {
   "cell_type": "code",
   "execution_count": null,
   "id": "7e73f964",
   "metadata": {},
   "outputs": [],
   "source": []
  }
 ],
 "metadata": {
  "kernelspec": {
   "display_name": "Python 3",
   "language": "python",
   "name": "python3"
  },
  "language_info": {
   "codemirror_mode": {
    "name": "ipython",
    "version": 3
   },
   "file_extension": ".py",
   "mimetype": "text/x-python",
   "name": "python",
   "nbconvert_exporter": "python",
   "pygments_lexer": "ipython3",
   "version": "3.8.8"
  }
 },
 "nbformat": 4,
 "nbformat_minor": 5
}
